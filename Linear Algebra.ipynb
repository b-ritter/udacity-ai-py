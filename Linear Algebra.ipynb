{
 "cells": [
  {
   "cell_type": "markdown",
   "metadata": {},
   "source": [
    "# Matrix"
   ]
  },
  {
   "cell_type": "markdown",
   "metadata": {},
   "source": [
    "The matrix below is a square matrix of mmxmm. It has mm rows and mm columns.\n",
    "\n",
    "$A = \\begin{bmatrix}\n",
    "        x_{11} & x_{12} & x_{13} & \\dots & x_{1n}\\\\\n",
    "        x_{21} & x_{22} & x_{23} & \\dots & x_{2n}\\\\\n",
    "        x_{21} & x_{22} & x_{23} & \\dots & x_{3n}\\\\\n",
    "        \\vdots &        &        &       &       \\\\\n",
    "        x_{m1} & x_{m2} & x_{m3} & \\dots & x_{mn}\\\\\n",
    "     \\end{bmatrix}\n",
    "$"
   ]
  },
  {
   "cell_type": "code",
   "execution_count": null,
   "metadata": {},
   "outputs": [],
   "source": []
  }
 ],
 "metadata": {
  "kernelspec": {
   "display_name": "Python 3",
   "language": "python",
   "name": "python3"
  },
  "language_info": {
   "codemirror_mode": {
    "name": "ipython",
    "version": 3
   },
   "file_extension": ".py",
   "mimetype": "text/x-python",
   "name": "python",
   "nbconvert_exporter": "python",
   "pygments_lexer": "ipython3",
   "version": "3.6.5"
  }
 },
 "nbformat": 4,
 "nbformat_minor": 2
}
