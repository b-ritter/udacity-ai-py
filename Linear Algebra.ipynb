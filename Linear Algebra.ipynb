{
 "cells": [
  {
   "cell_type": "markdown",
   "metadata": {},
   "source": [
    "# Matrix"
   ]
  },
  {
   "cell_type": "markdown",
   "metadata": {},
   "source": [
    "The matrix below is a square matrix of mmxmm. It has mm rows and mm columns.\n",
    "\n",
    "$A = \\begin{bmatrix}\n",
    "        x_{11} & x_{12} & x_{13} & \\dots & x_{1n}\\\\\n",
    "        x_{21} & x_{22} & x_{23} & \\dots & x_{2n}\\\\\n",
    "        x_{21} & x_{22} & x_{23} & \\dots & x_{3n}\\\\\n",
    "        \\vdots &        &        &       &       \\\\\n",
    "        x_{m1} & x_{m2} & x_{m3} & \\dots & x_{mn}\\\\\n",
    "     \\end{bmatrix}\n",
    "$"
   ]
  },
  {
   "cell_type": "markdown",
   "metadata": {},
   "source": [
    "To multiply two matrices with the same dimensions, each new element $i,j$ is the sum of each element of row $i$ times each element in column $j$\n",
    "\n",
    "$P = \\begin{bmatrix}\n",
    "        p_{11} & p_{12} & p_{13}\\\\\n",
    "        p_{21} & p_{22} & p_{23}\\\\\n",
    "        p_{31} & p_{32} & p_{33}\\\\\n",
    "     \\end{bmatrix}\\cdot\n",
    "     \\begin{bmatrix}\n",
    "        q_{11} & q_{12} & q_{13}\\\\\n",
    "        q_{21} & q_{22} & q_{23}\\\\\n",
    "        q_{31} & q_{32} & q_{33}\\\\\n",
    "     \\end{bmatrix}=\n",
    "     \\begin{bmatrix}\n",
    "        p_{11}q_{11}+p_{12}q_{21}+p_{13}q_{31} & p_{11}q_{12}+p_{12}q_{22}+p_{13}q_{32} & p_{11}q_{13}+p_{12}q_{23}+q_{13}q_{33}\\\\\n",
    "        p_{21}q_{11}+p_{22}q_{21}+p_{23}q_{31} & p_{21}q_{12}+p_{22}q_{22}+p_{23}q_{32} & p_{21}q_{13}+p_{22}q_{23}+q_{23}q_{33}\\\\\n",
    "        p_{31}q_{11}+p_{32}q_{21}+p_{33}q_{31} & p_{31}q_{12}+p_{32}q_{22}+p_{33}q_{32} & p_{31}q_{13}+p_{32}q_{23}+q_{33}q_{33}\\\\\n",
    "     \\end{bmatrix}\n",
    "$"
   ]
  },
  {
   "cell_type": "markdown",
   "metadata": {},
   "source": [
    "It follows the pattern below:\n",
    "\n",
    "<img src=\"./matmul.png\" width=500 height=400/>"
   ]
  },
  {
   "cell_type": "markdown",
   "metadata": {},
   "source": [
    "if A is an n × m matrix and B is an m × p matrix, their matrix product AB is an n × p matrix, in which the m entries across a row of A are multiplied with the m entries down a column of B and summed to produce an entry of AB. When two linear transformations are represented by matrices, then the matrix product represents the composition of the two transformations."
   ]
  },
  {
   "cell_type": "markdown",
   "metadata": {},
   "source": [
    "What if the matrices don't have equal dimensions? Consider the following:\n",
    "\n",
    "$P = \\begin{bmatrix}\n",
    "        1 & 2 & 3 \\\\\n",
    "        4 & 5 & 6 \\\\\n",
    "     \\end{bmatrix}\n",
    "\\\\\n",
    "Q = \\begin{bmatrix}\n",
    "        1 & 2 & 3 & -1 \\\\\n",
    "        4 & 5 & 6 & -1 \\\\\n",
    "        7 & 8 & 9 & -1 \\\\\n",
    "    \\end{bmatrix}\n",
    "$\n",
    "\n",
    "$P$ is a $t \\times m$ matrix where $t = 2$ and $m = 3$.\n",
    "\n",
    "$Q$ is a $m \\times v$ matrix where $m = 3$ and $v = 4$.\n",
    "\n",
    "Since since their inner dimensions both equal $m$ these matrices can be multiplied. Their product will be a $t \\times v$ matrix, their outer dimensions.\n",
    "\n"
   ]
  },
  {
   "cell_type": "code",
   "execution_count": 6,
   "metadata": {},
   "outputs": [
    {
     "data": {
      "text/plain": [
       "array([[ 30,  36,  42,  -6],\n",
       "       [ 66,  81,  96, -15]])"
      ]
     },
     "execution_count": 6,
     "metadata": {},
     "output_type": "execute_result"
    }
   ],
   "source": [
    "import numpy as np\n",
    "P = np.array([\n",
    "    [1,2,3],\n",
    "    [4,5,6]])\n",
    "Q = np.array([\n",
    "    [1,2,3,-1],\n",
    "    [4,5,6,-1],\n",
    "    [7,8,9,-1]])\n",
    "\n",
    "np.matmul(P,Q)\n",
    "\n"
   ]
  },
  {
   "cell_type": "code",
   "execution_count": 10,
   "metadata": {},
   "outputs": [
    {
     "ename": "ValueError",
     "evalue": "shapes (5,3) and (1,5) not aligned: 3 (dim 1) != 1 (dim 0)",
     "output_type": "error",
     "traceback": [
      "\u001b[0;31m---------------------------------------------------------------------------\u001b[0m",
      "\u001b[0;31mValueError\u001b[0m                                Traceback (most recent call last)",
      "\u001b[0;32m<ipython-input-10-2cdeeecf5249>\u001b[0m in \u001b[0;36m<module>\u001b[0;34m()\u001b[0m\n\u001b[1;32m      9\u001b[0m \u001b[0;34m\u001b[0m\u001b[0m\n\u001b[1;32m     10\u001b[0m \u001b[0mnp\u001b[0m\u001b[0;34m.\u001b[0m\u001b[0mmatmul\u001b[0m\u001b[0;34m(\u001b[0m\u001b[0mA\u001b[0m\u001b[0;34m,\u001b[0m\u001b[0mB\u001b[0m\u001b[0;34m)\u001b[0m\u001b[0;34m\u001b[0m\u001b[0m\n\u001b[0;32m---> 11\u001b[0;31m \u001b[0mnp\u001b[0m\u001b[0;34m.\u001b[0m\u001b[0mmatmul\u001b[0m\u001b[0;34m(\u001b[0m\u001b[0mB\u001b[0m\u001b[0;34m,\u001b[0m\u001b[0mA\u001b[0m\u001b[0;34m)\u001b[0m\u001b[0;34m\u001b[0m\u001b[0m\n\u001b[0m",
      "\u001b[0;31mValueError\u001b[0m: shapes (5,3) and (1,5) not aligned: 3 (dim 1) != 1 (dim 0)"
     ]
    }
   ],
   "source": [
    "#Quiz\n",
    "A = np.array([[.6,-15,2,5,98]])\n",
    "B = np.array([\n",
    "    [2,2,-4],\n",
    "    [9,-14,0],\n",
    "    [13,-.5,44],\n",
    "    [1,9,4],\n",
    "    [0,0,5]])\n",
    "\n",
    "np.matmul(A,B)\n",
    "np.matmul(B,A)"
   ]
  },
  {
   "cell_type": "code",
   "execution_count": null,
   "metadata": {},
   "outputs": [],
   "source": []
  }
 ],
 "metadata": {
  "kernelspec": {
   "display_name": "Python 3",
   "language": "python",
   "name": "python3"
  },
  "language_info": {
   "codemirror_mode": {
    "name": "ipython",
    "version": 3
   },
   "file_extension": ".py",
   "mimetype": "text/x-python",
   "name": "python",
   "nbconvert_exporter": "python",
   "pygments_lexer": "ipython3",
   "version": "3.6.5"
  }
 },
 "nbformat": 4,
 "nbformat_minor": 2
}
