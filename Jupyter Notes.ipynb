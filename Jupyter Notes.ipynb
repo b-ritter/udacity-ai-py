{
 "cells": [
  {
   "cell_type": "markdown",
   "metadata": {},
   "source": [
    "# Jupyter Notes\n",
    "\n",
    "## Installation\n",
    "\n",
    "On trying to install Plotly, I found I couldn't import it. It turned out I installed it in the correct environment, but when I started the notebook I did not have the environment activated. It was therefore using a different binary, without Plotly installed. This [SO post](https://stackoverflow.com/questions/39718367/unable-to-import-plotly-into-jupyter-notebook) pointed me in the right direction. You can use `sys.executable` to check which Python you are currently using.\n"
   ]
  },
  {
   "cell_type": "code",
   "execution_count": null,
   "metadata": {},
   "outputs": [],
   "source": []
  }
 ],
 "metadata": {
  "kernelspec": {
   "display_name": "Python [default]",
   "language": "python",
   "name": "python3"
  },
  "language_info": {
   "codemirror_mode": {
    "name": "ipython",
    "version": 3
   },
   "file_extension": ".py",
   "mimetype": "text/x-python",
   "name": "python",
   "nbconvert_exporter": "python",
   "pygments_lexer": "ipython3",
   "version": "3.6.6"
  }
 },
 "nbformat": 4,
 "nbformat_minor": 2
}
