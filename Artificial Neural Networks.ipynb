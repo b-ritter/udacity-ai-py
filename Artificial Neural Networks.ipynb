{
 "cells": [
  {
   "cell_type": "markdown",
   "metadata": {},
   "source": [
    "In an artificial neural network, you have $n$ inputs connected to $k$ hidden neurons by a matrix $W$.\n",
    "\n",
    "$$\n",
    "\\begin{bmatrix}\n",
    "    h_1^\\prime & h_2^\\prime & h_3^\\prime\n",
    "\\end{bmatrix} = \n",
    "\\begin{bmatrix}\n",
    "    x_1 & x_2 & x_3 & \\dots & x_n\n",
    "\\end{bmatrix}\\cdot\n",
    "\\begin{bmatrix}\n",
    "    W_{11} & W_{12} & W_{13} \\\\\n",
    "    W_{21} & W_{22} & W_{23} \\\\\n",
    "    W_{31} & W_{32} & W_{33} \\\\\n",
    "    \\vdots & \\vdots & \\vdots \\\\\n",
    "    W_{n1} & W_{n2} & W_{n3}\n",
    "\\end{bmatrix}\n",
    "$$"
   ]
  },
  {
   "cell_type": "code",
   "execution_count": null,
   "metadata": {},
   "outputs": [],
   "source": []
  }
 ],
 "metadata": {
  "kernelspec": {
   "display_name": "Python 3",
   "language": "python",
   "name": "python3"
  },
  "language_info": {
   "codemirror_mode": {
    "name": "ipython",
    "version": 3
   },
   "file_extension": ".py",
   "mimetype": "text/x-python",
   "name": "python",
   "nbconvert_exporter": "python",
   "pygments_lexer": "ipython3",
   "version": "3.6.5"
  }
 },
 "nbformat": 4,
 "nbformat_minor": 2
}
